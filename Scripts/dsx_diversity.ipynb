{
 "cells": [
  {
   "cell_type": "code",
   "execution_count": null,
   "id": "nzlLbYwB8ndM",
   "metadata": {
    "id": "nzlLbYwB8ndM"
   },
   "outputs": [],
   "source": [
    "!pip install -q malariagen_data\n",
    "!pip install -q scikit-allel\n",
    "!pip install -q pomegranate"
   ]
  },
  {
   "cell_type": "code",
   "execution_count": null,
   "id": "316f0ac1-e518-4f28-af9f-8a9acf47e960",
   "metadata": {
    "id": "316f0ac1-e518-4f28-af9f-8a9acf47e960"
   },
   "outputs": [],
   "source": [
    "import allel\n",
    "import malariagen_data\n",
    "import numpy as np\n",
    "import pandas as pd\n",
    "import dask\n",
    "import dask.array as da\n",
    "# silence some dask warnings\n",
    "dask.config.set(**{'array.slicing.split_large_chunks': True})\n",
    "from dask.diagnostics.progress import ProgressBar"
   ]
  },
  {
   "cell_type": "code",
   "execution_count": null,
   "id": "35f395f0-557e-46f1-89aa-679eb22a3c1c",
   "metadata": {
    "id": "35f395f0-557e-46f1-89aa-679eb22a3c1c"
   },
   "outputs": [],
   "source": [
    "import random\n",
    "import itertools\n",
    "#import plotly\n",
    "import plotly.express as px\n",
    "#import plotly.io as pio\n",
    "#import pomegranate\n",
    "\n",
    "#import random\n",
    "from collections import Counter\n",
    "from tqdm.dask import TqdmCallback\n",
    "from tqdm.auto import tqdm\n",
    "import functools"
   ]
  },
  {
   "cell_type": "code",
   "execution_count": null,
   "id": "c_CpLiNL8xlS",
   "metadata": {
    "id": "c_CpLiNL8xlS"
   },
   "outputs": [],
   "source": [
    "# plotting setup\n",
    "import matplotlib as mpl\n",
    "import matplotlib.pyplot as plt\n",
    "from matplotlib.colors import ListedColormap\n",
    "from matplotlib.gridspec import GridSpec\n",
    "import matplotlib_venn as venn\n",
    "import seaborn as sns"
   ]
  },
  {
   "cell_type": "code",
   "execution_count": null,
   "id": "DfjiL4C3B_nM",
   "metadata": {
    "colab": {
     "base_uri": "https://localhost:8080/"
    },
    "executionInfo": {
     "elapsed": 30144,
     "status": "ok",
     "timestamp": 1686936915592,
     "user": {
      "displayName": "Mahamadi Kientega",
      "userId": "09005529550051576731"
     },
     "user_tz": 0
    },
    "id": "DfjiL4C3B_nM",
    "outputId": "c3f3b404-69fb-4c97-d883-193d9711789b"
   },
   "outputs": [
    {
     "name": "stdout",
     "output_type": "stream",
     "text": [
      "Mounted at drive\n"
     ]
    }
   ],
   "source": [
    "#Mounting Google Drive\n",
    "import os\n",
    "from google.colab import drive\n",
    "drive.mount(\"drive\")\n",
    "\n",
    "# make dir\n",
    "results_dir = \"drive/MyDrive/data_dsx/\"\n",
    "os.makedirs(results_dir, exist_ok=True)"
   ]
  },
  {
   "cell_type": "code",
   "execution_count": null,
   "id": "228106fa-8c1d-42e2-954d-a499502ee353",
   "metadata": {
    "id": "228106fa-8c1d-42e2-954d-a499502ee353"
   },
   "outputs": [],
   "source": [
    "ag3 = malariagen_data.Ag3(\"gs://vo_agam_release/\", pre=True)\n",
    "#ag3\n",
    "\n",
    "#samples sets\n",
    "sets = [\"AG1000G-BF-A\", \"AG1000G-BF-B\", \"AG1000G-BF-C\",\"1191-VO-MULTI-OLOUGHLIN-VMF00106\",\n",
    "        \"1191-VO-MULTI-OLOUGHLIN-VMF00140\", \"1314-VO-BF-KIENTEGA-KIMA-BF-2104\"]\n",
    "df_samples = ag3.sample_metadata(sample_sets=sets)#.set_index(\"sample_id\")\n",
    "bf_samples = df_samples.query('country == \"Burkina Faso\"')"
   ]
  },
  {
   "cell_type": "code",
   "execution_count": null,
   "id": "6VlLcMpydKde",
   "metadata": {
    "id": "6VlLcMpydKde"
   },
   "outputs": [],
   "source": [
    "#To access to the genotypes within the 2R chromosomes\n",
    "chrom2R_gt = ag3.snp_calls(region=\"2R\", sample_sets= sets)\n",
    "\n",
    "## let's select BF samples\n",
    "BF_samples = df_samples.eval(\"(country == 'Burkina Faso')\").values\n",
    "#BF_samples\n",
    "\n",
    "## To have snp position within the target region in dsx gen\n",
    "snps_pos = allel.SortedIndex(chrom2R_gt['variant_position'].values)\n",
    "loc_region = snps_pos.locate_range(48703664 , 48792262)\n",
    "\n",
    "#To the genomics dataset within the dsx amplicom region and BF_samples\n",
    "dsx_region = chrom2R_gt.sel(variants=loc_region, samples=BF_samples)\n",
    "#dsx_region\n",
    "\n",
    "# To filter the SNP dataset and warp the dataset to GT array\n",
    "filt = 'gamb_colu_arab'\n",
    "filt_val = dsx_region[f\"variant_filter_pass_{filt}\"].values\n",
    "gt_filtered = allel.GenotypeDaskArray(dsx_region[\"call_genotype\"][filt_val].data)"
   ]
  },
  {
   "cell_type": "code",
   "execution_count": null,
   "id": "vWjGh2qfdTGf",
   "metadata": {
    "colab": {
     "base_uri": "https://localhost:8080/"
    },
    "executionInfo": {
     "elapsed": 18735,
     "status": "ok",
     "timestamp": 1686927829434,
     "user": {
      "displayName": "Mahamadi Kientega",
      "userId": "09005529550051576731"
     },
     "user_tz": 0
    },
    "id": "vWjGh2qfdTGf",
    "outputId": "ba424178-d467-4ffd-cc8d-3a4b91e2c081"
   },
   "outputs": [
    {
     "name": "stdout",
     "output_type": "stream",
     "text": [
      "[########################################] | 100% Completed | 10.74 s\n",
      "[########################################] | 100% Completed | 7.13 s\n"
     ]
    }
   ],
   "source": [
    "## To count the number of alleles\n",
    "with ProgressBar():\n",
    "  gt_filtered_arr = allel.GenotypeArray(gt_filtered)\n",
    "  ac = gt_filtered.count_alleles(max_allele=3).compute()"
   ]
  },
  {
   "cell_type": "code",
   "execution_count": null,
   "id": "NZM9SieqdW05",
   "metadata": {
    "colab": {
     "base_uri": "https://localhost:8080/"
    },
    "executionInfo": {
     "elapsed": 2492,
     "status": "ok",
     "timestamp": 1686927831904,
     "user": {
      "displayName": "Mahamadi Kientega",
      "userId": "09005529550051576731"
     },
     "user_tz": 0
    },
    "id": "NZM9SieqdW05",
    "outputId": "8409f161-1aa9-4e2a-c898-e57d339c5ccd"
   },
   "outputs": [
    {
     "name": "stdout",
     "output_type": "stream",
     "text": [
      "The number of segregating sites is 32243.\n",
      "Total variants = 32248.\n",
      "Biallelic sites = 24192.\n",
      "Multiallelic sites = 8051.\n",
      "density: 0.3639205860111288\n",
      "\n",
      "\n",
      "Nucleotide diversity = 0.00637687922994652; \n",
      "Tajima'D = -2.3908408075228156\n",
      "\n",
      "...\n",
      "Number of haplotypes = 3202.\n",
      "Haplotype diversity = 0.999999804870472.\n",
      "done...\n"
     ]
    }
   ],
   "source": [
    "# To get the variants positions within the target region in dsx\n",
    "is_variant = ac.is_variant()\n",
    "pos_df = dsx_region['variant_position'][filt_val][is_variant].compute()\n",
    "pos = allel.SortedIndex(pos_df[\"variant_position\"].values)\n",
    "\n",
    "# How many segregating sites\n",
    "print(f'The number of segregating sites is {ac.count_segregating()}.')\n",
    "print(f'Total variants = {ac.count_variant()}.')\n",
    "print(f'Biallelic sites = {ac.is_biallelic().sum()}.')\n",
    "print(f'Multiallelic sites = {ac.count_segregating() - ac.is_biallelic().sum()}.')\n",
    "print(f'density: {ac.count_segregating()/(loc_region.stop-loc_region.start)}')\n",
    "print('')\n",
    "print('')\n",
    "\n",
    "## diversity\n",
    "pi = allel.sequence_diversity(snps_pos[loc_region], ac )\n",
    "D = allel.tajima_d(ac, snps_pos[loc_region])\n",
    "print(f\"Nucleotide diversity = {pi}; \\nTajima'D = {D}\")\n",
    "\n",
    "### haplotypes\n",
    "ht_cohort = allel.HaplotypeArray(gt_filtered_arr.to_haplotypes())\n",
    "print('')\n",
    "print('...')\n",
    "print(f'Number of haplotypes = {ht_cohort.n_haplotypes}.')\n",
    "print(f'Haplotype diversity = {allel.haplotype_diversity(ht_cohort)}.')\n",
    "print('done...')"
   ]
  },
  {
   "cell_type": "code",
   "execution_count": null,
   "id": "OaE989_t77Sl",
   "metadata": {
    "id": "OaE989_t77Sl"
   },
   "outputs": [],
   "source": [
    "#bf_samples.query('year > 2012').groupby(['location', 'aim_species', 'year']).size()"
   ]
  },
  {
   "cell_type": "markdown",
   "id": "C8hYmsT--uqJ",
   "metadata": {
    "id": "C8hYmsT--uqJ"
   },
   "source": [
    "## define cohorts for computing"
   ]
  },
  {
   "cell_type": "code",
   "execution_count": null,
   "id": "da5e6c7a-454d-4dcf-b4ce-e61cac7ea3ef",
   "metadata": {
    "id": "da5e6c7a-454d-4dcf-b4ce-e61cac7ea3ef"
   },
   "outputs": [],
   "source": [
    "query_year = {'Bana_ara_2014': \"location == ['Bana Market', 'Bana Village'] and aim_species == 'arabiensis' and year==2014\",\n",
    "              'Bana_ara_2019': \"location == ['Bana Market', 'Bana Village'] and aim_species == 'arabiensis' and year==2019\",\n",
    "              'Bana_col_2012': \"location == ['Bana Market', 'Bana Village'] and aim_species == 'coluzzii' and year==2012\",\n",
    "              'Bana_col_2014': \"location == ['Bana Market', 'Bana Village'] and aim_species == 'coluzzii' and year==2014\",\n",
    "              'Bana_col_2015': \"location == ['Bana Market', 'Bana Village'] and aim_species == 'coluzzii' and year==2015\",\n",
    "              'Bana_col_2016': \"location == ['Bana Market', 'Bana Village'] and aim_species == 'coluzzii' and year==2016\",\n",
    "              'Bana_col_2017': \"location == ['Bana Market', 'Bana Village'] and aim_species == 'coluzzii' and year==2017\",\n",
    "              'Bana_col_2018': \"location == ['Bana Market', 'Bana Village'] and aim_species == 'coluzzii' and year==2018\",\n",
    "              'Bana_col_2019': \"location == ['Bana Market', 'Bana Village'] and aim_species == 'coluzzii' and year==2019\",\n",
    "              'Bana_gam_2012': \"location == ['Bana Market', 'Bana Village'] and aim_species == 'gambiae' and year==2012\",\n",
    "              'Bana_gam_2014': \"location == ['Bana Market', 'Bana Village'] and aim_species == 'gambiae' and year==2014\",\n",
    "              'Bana_gam_2015': \"location == ['Bana Market', 'Bana Village'] and aim_species == 'gambiae' and year==2015\",\n",
    "              'Bana_gam_2016': \"location == ['Bana Market', 'Bana Village'] and aim_species == 'gambiae' and year==2016\",\n",
    "              'Bana_gam_2018': \"location == ['Bana Market', 'Bana Village'] and aim_species == 'gambiae' and year==2018\",\n",
    "              'Bana_gam_2019': \"location == ['Bana Market', 'Bana Village'] and aim_species == 'gambiae' and year==2019\",\n",
    "              'Bana_int_2012': \"location == ['Bana Market', 'Bana Village'] and aim_species == 'intermediate_gambiae_coluzzii' and year==2012\",\n",
    "              'Mono_gam_2004': \"location == 'Monomtenga' and aim_species == 'gambiae' and year==2004\",\n",
    "              'Pala_ara_2014': \"location == 'Pala' and aim_species == 'arabiensis' and year==2014\",\n",
    "              'Pala_ara_2015': \"location == 'Pala' and aim_species == 'arabiensis' and year==2015\",\n",
    "              'Pala_ara_2016': \"location == 'Pala' and aim_species == 'arabiensis' and year==2016\",\n",
    "              'Pala_ara_2018': \"location == 'Pala' and aim_species == 'arabiensis' and year==2018\",\n",
    "              'Pala_ara_2019': \"location == 'Pala' and aim_species == 'arabiensis' and year==2019\",\n",
    "              'Pala_col_2012': \"location == 'Pala' and aim_species == 'coluzzii' and year==2012\",\n",
    "              'Pala_col_2018': \"location == 'Pala' and aim_species == 'coluzzii' and year==2018\",\n",
    "              'Pala_col_2019': \"location == 'Pala' and aim_species == 'coluzzii' and year==2019\",\n",
    "              'Pala_gam_2012': \"location == 'Pala' and aim_species == 'gambiae' and year==2012\",\n",
    "              'Pala_gam_2014': \"location == 'Pala' and aim_species == 'gambiae' and year==2014\",\n",
    "              'Pala_gam_2015': \"location == 'Pala' and aim_species == 'gambiae' and year==2015\",\n",
    "              'Pala_gam_2016': \"location == 'Pala' and aim_species == 'gambiae' and year==2016\",\n",
    "              'Pala_gam_2017': \"location == 'Pala' and aim_species == 'gambiae' and year==2017\",\n",
    "              'Pala_gam_2018': \"location == 'Pala' and aim_species == 'gambiae' and year==2018\",\n",
    "              'Pala_gam_2019': \"location == 'Pala' and aim_species == 'gambiae' and year==2019\",\n",
    "              'Pala_int_2017': \"location == 'Pala' and aim_species == 'intermediate_gambiae_coluzzii' and year==2017\",\n",
    "              'Sour_ara_2017': \"location == ['Souroukoudinga', 'Souroukoudingan'] and aim_species == 'arabiensis' and year==2017\",\n",
    "              'Sour_ara_2018': \"location == 'Souroukoudingan' and aim_species == 'arabiensis' and year==2018\",\n",
    "              'Sour_ara_2019': \"location == 'Souroukoudingan' and aim_species == 'arabiensis' and year==2019\",\n",
    "              'Sour_col_2012': \"location == 'Souroukoudinga' and aim_species == 'coluzzii' and year==2012\",\n",
    "              'Sour_col_2014': \"location == 'Souroukoudinga' and aim_species == 'coluzzii' and year==2014\",\n",
    "              'Sour_col_2015': \"location == 'Souroukoudinga' and aim_species == 'coluzzii' and year==2015\",\n",
    "              'Sour_col_2016': \"location == 'Souroukoudinga' and aim_species == 'coluzzii' and year==2016\",\n",
    "              'Sour_col_2017': \"location == ['Souroukoudinga', 'Souroukoudingan'] and aim_species == 'coluzzii' and year==2017\",\n",
    "              'Sour_col_2018': \"location == 'Souroukoudingan' and aim_species == 'coluzzii' and year==2018\",\n",
    "              'Sour_col_2019': \"location == 'Souroukoudingan' and aim_species == 'coluzzii' and year==2019\",\n",
    "              'Sour_gam_2012': \"location == 'Souroukoudinga' and aim_species == 'gambiae' and year==2012\",\n",
    "              'Sour_gam_2014': \"location == 'Souroukoudinga' and aim_species == 'gambiae' and year==2014\",\n",
    "              'Sour_gam_2015': \"location == 'Souroukoudinga' and aim_species == 'gambiae' and year==2015\",\n",
    "              'Sour_gam_2016': \"location == 'Souroukoudinga' and aim_species == 'gambiae' and year==2016\",\n",
    "              'Sour_gam_2017': \"location == 'Souroukoudingan' and aim_species == 'gambiae' and year==2017\",\n",
    "              'Sour_gam_2018': \"location == 'Souroukoudingan' and aim_species == 'gambiae' and year==2018\",\n",
    "              'Sour_gam_2019': \"location == 'Souroukoudingan' and aim_species == 'gambiae' and year==2019\",\n",
    "              }\n",
    "\n",
    "query_sp = {'Bana_ara': \"location == ['Bana Market', 'Bana Village'] and aim_species == 'arabiensis'\",\n",
    "            'Bana_col': \"location == ['Bana Market', 'Bana Village'] and aim_species == 'coluzzii'\",\n",
    "            'Bana_gam': \"location == ['Bana Market', 'Bana Village'] and aim_species == 'gambiae'\",\n",
    "            'Bana_int': \"location == ['Bana Market', 'Bana Village'] and aim_species == 'intermediate_gambiae_coluzzii'\",\n",
    "            'Mono_gam': \"location == 'Monomtenga' and aim_species == 'gambiae'\",\n",
    "            'Pala_ara': \"location == 'Pala' and aim_species == 'arabiensis'\",\n",
    "            'Pala_col': \"location == 'Pala' and aim_species == 'coluzzii'\",\n",
    "            'Pala_gam': \"location == 'Pala' and aim_species == 'gambiae'\",\n",
    "            'Pala_int': \"location == 'Pala' and aim_species == 'intermediate_gambiae_coluzzii'\",\n",
    "            'Sour_ara': \"location == ['Souroukoudinga', 'Souroukoudingan'] and aim_species == 'arabiensis'\",\n",
    "            'Sour_col': \"location == ['Souroukoudinga', 'Souroukoudingan'] and aim_species == 'coluzzii'\",\n",
    "            'Sour_gam': \"location == ['Souroukoudinga', 'Souroukoudingan'] and aim_species == 'gambiae'\"\n",
    "            }\n",
    "\n",
    "pops1 = ['Bana_col_2012','Bana_col_2014','Bana_col_2015','Bana_col_2016','Bana_col_2017','Bana_col_2018','Bana_col_2019',\n",
    "       'Bana_gam_2012','Bana_gam_2014','Bana_gam_2015','Bana_gam_2016','Mono_gam_2004',\n",
    "       'Pala_ara_2014','Pala_ara_2015','Pala_ara_2016','Pala_ara_2018','Pala_ara_2019','Pala_col_2012','Pala_gam_2012',\n",
    "       'Pala_gam_2014','Pala_gam_2015','Pala_gam_2016','Pala_gam_2017','Pala_gam_2018','Sour_col_2019','Sour_col_2012',\n",
    "       'Sour_col_2014','Sour_col_2015','Sour_col_2016','Sour_col_2017','Sour_col_2019','Sour_gam_2012',\n",
    "       'Sour_gam_2014','Sour_gam_2015','Sour_gam_2016',]\n",
    "\n",
    "pops = ['Bana_col', 'Bana_gam', 'Mono_gam', 'Pala_ara', 'Pala_col', 'Pala_gam', 'Sour_col', 'Sour_gam']"
   ]
  },
  {
   "cell_type": "markdown",
   "id": "Q1QwKKQBTzYd",
   "metadata": {
    "id": "Q1QwKKQBTzYd"
   },
   "source": [
    "## div stats"
   ]
  },
  {
   "cell_type": "code",
   "execution_count": null,
   "id": "mETaV5vhTypS",
   "metadata": {
    "id": "mETaV5vhTypS"
   },
   "outputs": [],
   "source": [
    "dsx_stats = ag3.diversity_stats(sample_query=\"country == 'Burkina Faso'\",\n",
    "                                cohorts=\"admin2_year\",\n",
    "                                cohort_size=10,\n",
    "                                region=\"AGAP004050\",\n",
    "                                site_mask=\"gamb_colu_arab\",\n",
    "                                site_class=\"CDS_DEG_4\",\n",
    "                                sample_sets=sets\n",
    "                                )"
   ]
  },
  {
   "cell_type": "markdown",
   "id": "FUucrbVg-f_0",
   "metadata": {
    "id": "FUucrbVg-f_0"
   },
   "source": [
    "## Segragating sites - functions"
   ]
  },
  {
   "cell_type": "code",
   "execution_count": null,
   "id": "01e2dca2-7a28-4ea9-a411-03226b7700d4",
   "metadata": {
    "id": "01e2dca2-7a28-4ea9-a411-03226b7700d4"
   },
   "outputs": [],
   "source": [
    "#@functools.lru_cache(maxsize=None)\n",
    "def compute_snp_stats(contig, sample_query, sample_sets=sets):\n",
    "  # access genotypes\n",
    "  ds_geno = ag3.snp_calls(region=contig, sample_query=sample_query, sample_sets=sample_sets)\n",
    "  #count alleles and load into memory\n",
    "  filt = 'gamb_colu_arab'\n",
    "  filt_val = ds_geno[f\"variant_filter_pass_{filt}\"].values\n",
    "  pos = ds_geno[\"variant_position\"][filt_val].values\n",
    "  gt_filtered = allel.GenotypeDaskArray(ds_geno[\"call_genotype\"][filt_val].data)\n",
    "\n",
    "  # count alleles and load into memory\n",
    "  with TqdmCallback(desc=\"Count max alleles\"):\n",
    "    ac = gt_filtered.count_alleles(max_allele=3).compute()\n",
    "  # compute SNPs\n",
    "  n_samples = len(bf_samples.query(sample_query))\n",
    "  n_seg = ac.count_segregating()\n",
    "  n_var = ac.count_variant()\n",
    "  dens = n_seg/(48792262-48703664)\n",
    "  n_biallelic = ac.is_biallelic().sum()\n",
    "  n_multiallelic = ac.count_segregating() - ac.is_biallelic().sum()\n",
    "  tx_multiallelic = 100*(ac.count_segregating() - ac.is_biallelic().sum())/ac.count_segregating()\n",
    "  # Haplotype diversity\n",
    "  ht_cohort = allel.HaplotypeArray(gt_filtered.to_haplotypes())\n",
    "  n_hap = ht_cohort.n_haplotypes\n",
    "  hap_div = allel.haplotype_diversity(ht_cohort)\n",
    "\n",
    "  # list of stats\n",
    "  SNPs_list = [n_samples, n_seg, n_var, dens, n_biallelic, n_multiallelic, tx_multiallelic, n_hap, hap_div]\n",
    "\n",
    "  return pos, SNPs_list\n"
   ]
  },
  {
   "cell_type": "code",
   "execution_count": null,
   "id": "GMO8dK0Fl2LM",
   "metadata": {
    "id": "GMO8dK0Fl2LM"
   },
   "outputs": [],
   "source": [
    "#compute_snp_stats(contig='AGAP004050', sample_query= query_year['Sour_gam_2019'], sample_sets=sets)"
   ]
  },
  {
   "cell_type": "code",
   "execution_count": null,
   "id": "_NW_uMTukLIF",
   "metadata": {
    "id": "_NW_uMTukLIF"
   },
   "outputs": [],
   "source": [
    "def compute_snp(query, contig, sample_sets):\n",
    "  ## def variables\n",
    "  seg_dict, pos_dict = {}, {}\n",
    "\n",
    "  ## compute segregating sites\n",
    "  for key in query.keys():\n",
    "    pos_dict[key], seg_dict[key] = compute_snp_stats(contig=contig, sample_query= query[key], sample_sets=sample_sets)\n",
    "\n",
    "  ## Warp to dataframe\n",
    "  df_tab = pd.DataFrame.from_dict(seg_dict, orient='index')\n",
    "  df_tab.rename(columns={0: 'n_samples',1:'n_sites',2:'n_variants',3:'var_density',4:'bi_all_sites',5:'multi_all_sites',\n",
    "                         6:'tx_multi_allelic',7:'n_haplotypes',8:'h_diversity'}, inplace=True)\n",
    "\n",
    "  return df_tab, pos_dict\n"
   ]
  },
  {
   "cell_type": "code",
   "execution_count": null,
   "id": "7c7fXt3vrYel",
   "metadata": {
    "id": "7c7fXt3vrYel"
   },
   "outputs": [],
   "source": [
    "# compute SNP per year per pop\n",
    "seg_tab_y, pos = compute_snp(query=query_year, contig='2R:48703664-48792262', sample_sets=sets)\n",
    "\n",
    "# compute SNP per year per pop\n",
    "seg_tab_pop, pos_pop = compute_snp(query=query_sp, contig='2R:48703664-48792262', sample_sets=sets)"
   ]
  },
  {
   "cell_type": "markdown",
   "id": "u1_jy51A-kHA",
   "metadata": {
    "id": "u1_jy51A-kHA"
   },
   "source": [
    "## diversity stats - functions"
   ]
  },
  {
   "cell_type": "code",
   "execution_count": null,
   "id": "eJ6nWdD9YFbJ",
   "metadata": {
    "id": "eJ6nWdD9YFbJ"
   },
   "outputs": [],
   "source": [
    "def compute_stat(query_dict, pops, samples, cohorts=\"admin2_year\", cohort_size=10, region=\"2R\",\n",
    "                      site_mask=\"gamb_colu_arab\",site_class=\"CDS_DEG_4\", random_seed=42):\n",
    "\n",
    "  ## create empty df\n",
    "  df_list = []\n",
    "\n",
    "  ## compute diversity stats\n",
    "  for key in pops:\n",
    "    if len(samples.query(query_dict[key]))>cohort_size:\n",
    "      div = ag3.diversity_stats(sample_query=f'{query_dict[key]}',cohorts=cohorts,cohort_size=cohort_size,\n",
    "                                region=region,site_mask=site_mask,site_class=site_class, random_seed=random_seed)\n",
    "      ## add population\n",
    "      site = [key for i in range(div.shape[0])]\n",
    "      chrom = [region for i in range(div.shape[0])]\n",
    "\n",
    "      ## insert site and chrom in the df\n",
    "      div_stat = div.copy()\n",
    "      div_stat.insert(1, 'site', site)\n",
    "      div_stat.insert(2, 'chrom', chrom)\n",
    "\n",
    "      ## append into df list\n",
    "      df_list.append(div_stat)\n",
    "\n",
    "  ## concat to df\n",
    "  stats_df = pd.concat(df_list, ignore_index=True).fillna('')\n",
    "\n",
    "  return df_list, stats_df"
   ]
  },
  {
   "cell_type": "code",
   "execution_count": null,
   "id": "3UWvSYHJYuoT",
   "metadata": {
    "id": "3UWvSYHJYuoT"
   },
   "outputs": [],
   "source": [
    "# diversity statistics in  the dsx gene per year per sp\n",
    "dlist_dsx_y, stats_dsx_y = compute_stat(query_year, samples=bf_samples, pops=pops1, region='AGAP004050')\n",
    "\n",
    "# diversity statistics in  the dsx gene per year per sp\n",
    "dlist_dsx_sp, stats_dsx_sp = compute_stat(query_sp, samples=bf_samples, pops=pops, region='AGAP004050')"
   ]
  },
  {
   "cell_type": "markdown",
   "id": "RQOJ_ZxE-oN6",
   "metadata": {
    "id": "RQOJ_ZxE-oN6"
   },
   "source": [
    "## SNP frequencies"
   ]
  },
  {
   "cell_type": "code",
   "execution_count": null,
   "id": "ABKCPptpfv2I",
   "metadata": {
    "id": "ABKCPptpfv2I"
   },
   "outputs": [],
   "source": [
    "## let's choose a transcripts\n",
    "ra = 'AGAP004050-RA'\n",
    "rb = 'AGAP004050-RB'\n"
   ]
  },
  {
   "cell_type": "code",
   "execution_count": null,
   "id": "p-QhSYkkf7Yi",
   "metadata": {
    "id": "p-QhSYkkf7Yi"
   },
   "outputs": [],
   "source": [
    "## Compute SNP allele frequencies by collection site and species and year\n",
    "#help(ag3.snp_allele_frequencies)\n",
    "snps_ra_y = ag3.snp_allele_frequencies(transcript=ra, cohorts=query_year, site_mask='gamb_colu_arab',\n",
    "                                     sample_sets=sets, drop_invariant=True, effects=True)\n",
    "snps_rb_y = ag3.snp_allele_frequencies(transcript=rb, cohorts=query_year, site_mask='gamb_colu_arab',\n",
    "                                     sample_sets=sets, drop_invariant=True, effects=True)"
   ]
  },
  {
   "cell_type": "code",
   "execution_count": null,
   "id": "j52jD8Mwf7Rh",
   "metadata": {
    "id": "j52jD8Mwf7Rh"
   },
   "outputs": [],
   "source": [
    "## Compute SNP allele frequencies by collection site and species\n",
    "#help(ag3.snp_allele_frequencies)\n",
    "snps_ra_pop = ag3.snp_allele_frequencies(transcript=ra, cohorts=query_sp, site_mask='gamb_colu_arab',\n",
    "                                     sample_sets=sets, drop_invariant=True, effects=True)\n",
    "snps_rb_pop = ag3.snp_allele_frequencies(transcript=rb, cohorts=query_sp, site_mask='gamb_colu_arab',\n",
    "                                     sample_sets=sets, drop_invariant=True, effects=True)"
   ]
  },
  {
   "cell_type": "code",
   "execution_count": null,
   "id": "VapSU3c0FcpX",
   "metadata": {
    "id": "VapSU3c0FcpX"
   },
   "outputs": [],
   "source": [
    "## Creat SNP list\n",
    "snps_list1 = [snps_ra_y, snps_rb_y]\n",
    "snps_list2 = [snps_ra_pop, snps_rb_pop]\n",
    "\n",
    "# SNP freq tables\n",
    "freq_y = pd.concat(snps_list1)\n",
    "freq_y = freq_y.reset_index().drop_duplicates(subset=['position', 'alt_allele'])\n",
    "freq_pop = pd.concat(snps_list2)\n",
    "freq_pop = freq_pop.reset_index().drop_duplicates(subset=['position', 'alt_allele'])"
   ]
  },
  {
   "cell_type": "markdown",
   "id": "kt-oym9Okov7",
   "metadata": {
    "id": "kt-oym9Okov7"
   },
   "source": [
    "## Times series frequencies"
   ]
  },
  {
   "cell_type": "code",
   "execution_count": null,
   "id": "ZSgKolN4kKop",
   "metadata": {
    "id": "ZSgKolN4kKop"
   },
   "outputs": [],
   "source": [
    "def ds_freq_tab(ds):\n",
    "  #extract cohorts into a dataframe\n",
    "  cohort_vars = [v for v in ds if v.startswith(\"cohort_\")]\n",
    "  df_cohorts = ds[cohort_vars].to_dataframe()\n",
    "  df_cohorts.columns = [c.split(\"cohort_\")[1] for c in df_cohorts.columns]\n",
    "\n",
    "  variant_labels = ds[\"variant_label\"].values\n",
    "  dfs = []\n",
    "  for cohort_index, cohort in enumerate(df_cohorts.itertuples()):\n",
    "    ds_cohort = ds.isel(cohorts=cohort_index)\n",
    "    dict_df =  {\"taxon\": cohort.taxon, \"area\": cohort.area, \"date\": cohort.period_start,\n",
    "                \"period\": str(cohort.period),\"sample_size\": cohort.size,\"position\": ds_cohort['variant_position'],\n",
    "                \"ref\": ds_cohort['variant_ref_allele'],\"alt\": ds_cohort['variant_ref_allele'],\"aa_change\": ds_cohort['variant_aa_change'],\n",
    "                \"variant\": variant_labels, \"count\": ds_cohort[\"event_count\"].values,\"nobs\": ds_cohort[\"event_nobs\"].values,\n",
    "                \"frequency\": ds_cohort[\"event_frequency\"].values, \"frequency_ci_low\": ds_cohort[\"event_frequency_ci_low\"].values,\n",
    "                \"frequency_ci_upp\": ds_cohort[\"event_frequency_ci_upp\"].values\n",
    "                }\n",
    "    df = pd.DataFrame(dict_df)\n",
    "    dfs.append(df)\n",
    "\n",
    "  df_events = pd.concat(dfs, axis=0).reset_index(drop=True)\n",
    "  df_events = df_events.query(\"nobs > 0\")\n",
    "\n",
    "  # Frequencies stats\n",
    "  frq = df_events[\"frequency\"]\n",
    "  frq_ci_low = df_events[\"frequency_ci_low\"]\n",
    "  frq_ci_upp = df_events[\"frequency_ci_upp\"]\n",
    "  df_events[\"frequency_error\"] = frq_ci_upp - frq\n",
    "  df_events[\"frequency_error_minus\"] = frq - frq_ci_low\n",
    "\n",
    "  return df_events"
   ]
  },
  {
   "cell_type": "code",
   "execution_count": null,
   "id": "limT6iF8k0cQ",
   "metadata": {
    "id": "limT6iF8k0cQ"
   },
   "outputs": [],
   "source": [
    "def plot_freq_time_series(data, height=450, width=900, template='plotly_white', title='{gene} SNP frequencies'):\n",
    "\n",
    "  #plot time series frequencies\n",
    "  fig = px.line(data,x=\"date\", y=\"frequency\", error_y=\"frequency_error\",\n",
    "                error_y_minus=\"frequency_error_minus\", color=\"variant\", markers=True,\n",
    "                height=height,width=width,template=template, title=title,\n",
    "                labels={\"date\": \"Years\", \"frequency\": \"Allelic frequencies\", \"variant\":'Genetic variants'})\n",
    "\n",
    "  # figure layout\n",
    "  fig.update_layout(xaxis=dict(showgrid=False, showline=True, linewidth=1, linecolor='black'),\n",
    "                   yaxis=dict(showgrid=False, showline=True, linewidth=1, linecolor='gray'))\n",
    "  fig.update_yaxes(range=[0, 1.0], ticks=\"outside\", col=1)\n",
    "  fig.update_xaxes(ticks=\"outside\", col=1)\n",
    "\n",
    "  return fig"
   ]
  },
  {
   "cell_type": "code",
   "execution_count": null,
   "id": "sDE2GEQZlpBo",
   "metadata": {
    "id": "sDE2GEQZlpBo"
   },
   "outputs": [],
   "source": [
    "## All populations\n",
    "ds_aafreq_all = ag3.aa_allele_frequencies_advanced(transcript=ra, area_by=\"admin1_iso\", period_by=\"year\",\n",
    "                                                   sample_sets=sets, sample_query=\"country == 'Burkina Faso' and location ==['Bana Market', 'Bana Village', 'Souroukoudinga', 'Souroukoudingan', 'Pala']\",\n",
    "                                                   variant_query=\"max_af > 0.0001\")\n",
    "freq_events_all = ds_freq_tab(ds_aafreq_all)\n",
    "#freq_events_all\n",
    "\n",
    "## Populations from Bana\n",
    "ds_aafreq_bana = ag3.aa_allele_frequencies_advanced(transcript=ra, area_by=\"admin1_iso\", period_by=\"year\",\n",
    "                                                    sample_sets=sets, sample_query=\"country == 'Burkina Faso' and location ==['Bana Market', 'Bana Village']\",\n",
    "                                                    variant_query=\"max_af > 0.0001\")\n",
    "freq_events_bana = ds_freq_tab(ds_aafreq_bana)\n",
    "#freq_events_bana\n",
    "\n",
    "## Populations from Pala\n",
    "ds_aafreq_pala = ag3.aa_allele_frequencies_advanced(transcript=ra, area_by=\"admin1_iso\", period_by=\"year\",\n",
    "                                                    sample_sets=sets, sample_query=\"country == 'Burkina Faso' and location =='Pala'\",\n",
    "                                                    variant_query=\"max_af > 0.0001\")\n",
    "freq_events_pala = ds_freq_tab(ds_aafreq_pala)\n",
    "\n",
    "## Populations from Souroukoudinga\n",
    "ds_aafreq_sr = ag3.aa_allele_frequencies_advanced(transcript=ra, area_by=\"admin1_iso\", period_by=\"year\",\n",
    "                                                  sample_sets=sets, sample_query=\"country == 'Burkina Faso' and location ==['Souroukoudinga', 'Souroukoudingan']\",\n",
    "                                                  variant_query=\"max_af > 0.0001\")\n",
    "freq_events_sr = ds_freq_tab(ds_aafreq_sr)"
   ]
  },
  {
   "cell_type": "code",
   "execution_count": null,
   "id": "KwCwvt7hFNoH",
   "metadata": {
    "id": "KwCwvt7hFNoH"
   },
   "outputs": [],
   "source": [
    "#freq_events_all.query('frequency >0.05')"
   ]
  },
  {
   "cell_type": "code",
   "execution_count": null,
   "id": "X5pK8kjFFcE9",
   "metadata": {
    "id": "X5pK8kjFFcE9"
   },
   "outputs": [],
   "source": [
    "#freq_events_bana.query('frequency >0.05')"
   ]
  },
  {
   "cell_type": "code",
   "execution_count": null,
   "id": "Ms9OtxQOFepK",
   "metadata": {
    "id": "Ms9OtxQOFepK"
   },
   "outputs": [],
   "source": [
    "#freq_events_pala.query('frequency >0.05')"
   ]
  },
  {
   "cell_type": "code",
   "execution_count": null,
   "id": "NxtGdMoJFhBL",
   "metadata": {
    "id": "NxtGdMoJFhBL"
   },
   "outputs": [],
   "source": [
    "#freq_events_sr.query('frequency >0.05')"
   ]
  },
  {
   "cell_type": "code",
   "execution_count": null,
   "id": "9NC2zy1sF-Rz",
   "metadata": {
    "id": "9NC2zy1sF-Rz"
   },
   "outputs": [],
   "source": [
    "#ds_aafreq_bana['variant_aa_change']"
   ]
  },
  {
   "cell_type": "code",
   "execution_count": null,
   "id": "ekCozBQRoTgj",
   "metadata": {
    "id": "ekCozBQRoTgj"
   },
   "outputs": [],
   "source": [
    "#bf_samples.query(\"country == 'Burkina Faso' and location ==['Bana Market', 'Bana Village', 'Souroukoudinga', 'Souroukoudingan', 'Pala']\").groupby(['aim_species']).size()#.sum()"
   ]
  },
  {
   "cell_type": "markdown",
   "id": "csj6YyhaWpTJ",
   "metadata": {
    "id": "csj6YyhaWpTJ"
   },
   "source": [
    "## Save data to csv"
   ]
  },
  {
   "cell_type": "code",
   "execution_count": null,
   "id": "rYxQIMCtWoAf",
   "metadata": {
    "id": "rYxQIMCtWoAf"
   },
   "outputs": [],
   "source": [
    "# Save data to csv\n",
    "## SNP data\n",
    "seg_tab_y.to_csv('drive/MyDrive/data_dsx/data_saved/seg_tab_y.csv')\n",
    "seg_tab_pop.to_csv('drive/MyDrive/data_dsx/data_saved/seg_tab_pop.csv')\n",
    "\n",
    "## diversity data\n",
    "stats_dsx_y.to_csv('drive/MyDrive/data_dsx/data_saved/stats_dsx_y.csv')\n",
    "stats_dsx_sp.to_csv('drive/MyDrive/data_dsx/data_saved/stats_dsx_sp.csv')\n",
    "\n",
    "## SNP freq\n",
    "freq_y.to_csv('drive/MyDrive/data_dsx/data_saved/freq_y.csv')\n",
    "freq_pop.to_csv('drive/MyDrive/data_dsx/data_saved/freq_pop.csv')"
   ]
  },
  {
   "cell_type": "code",
   "execution_count": null,
   "id": "XrH9Gu7OWn5g",
   "metadata": {
    "id": "XrH9Gu7OWn5g"
   },
   "outputs": [],
   "source": [
    "## Save time series data\n",
    "freq_events_all.to_csv('drive/MyDrive/data_dsx/data_saved/freq_events_all.csv')\n",
    "freq_events_bana.to_csv('drive/MyDrive/data_dsx/data_saved/freq_events_bana.csv')\n",
    "freq_events_pala.to_csv('drive/MyDrive/data_dsx/data_saved/freq_events_pala.csv')\n",
    "freq_events_sr.to_csv('drive/MyDrive/data_dsx/data_saved/freq_events_sr.csv')"
   ]
  },
  {
   "cell_type": "code",
   "execution_count": null,
   "id": "EKke1jmDWn2s",
   "metadata": {
    "id": "EKke1jmDWn2s"
   },
   "outputs": [],
   "source": []
  }
 ],
 "metadata": {
  "colab": {
   "provenance": []
  },
  "kernelspec": {
   "display_name": "Python 3 (ipykernel)",
   "language": "python",
   "name": "python3"
  },
  "language_info": {
   "codemirror_mode": {
    "name": "ipython",
    "version": 3
   },
   "file_extension": ".py",
   "mimetype": "text/x-python",
   "name": "python",
   "nbconvert_exporter": "python",
   "pygments_lexer": "ipython3",
   "version": "3.10.9"
  }
 },
 "nbformat": 4,
 "nbformat_minor": 5
}
